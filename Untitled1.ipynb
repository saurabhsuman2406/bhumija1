{
 "cells": [
  {
   "cell_type": "code",
   "execution_count": 1,
   "id": "f878c879",
   "metadata": {},
   "outputs": [
    {
     "name": "stdout",
     "output_type": "stream",
     "text": [
      "rice\n"
     ]
    }
   ],
   "source": [
    "from __future__ import print_function\n",
    "import pandas as pd\n",
    "import numpy as np\n",
    "import warnings\n",
    "from sklearn.model_selection import train_test_split\n",
    "from sklearn.ensemble import RandomForestClassifier\n",
    "warnings.filterwarnings('ignore')\n",
    "PATH = 'Crop_recommendation.csv'\n",
    "df = pd.read_csv(PATH)\n",
    "features = df[['N', 'P','K','temperature', 'humidity', 'ph', 'rainfall']]\n",
    "target = df['label']\n",
    "labels = df['label']\n",
    "acc = []\n",
    "model = []\n",
    "Xtrain, Xtest, Ytrain, Ytest = train_test_split(features,target,test_size = 0.2,random_state =2)\n",
    "RF = RandomForestClassifier(n_estimators=20, random_state=0)\n",
    "RF.fit(Xtrain,Ytrain)\n",
    "nitrogen=tracker.get_slot(\"nitrogen\")\n",
    "potassium=tracker.get_slot(\"potassium\")\n",
    "phosphorus=tracker.get_slot(\"phosphorus\")\n",
    "temperature=tracker.get_slot(\"temperature\")\n",
    "humidity=tracker.get_slot(\"humidity\")\n",
    "ph=tracker.get_slot(\"ph\")\n",
    "rainfall=float(tracker.get_slot(\"rainfall\"))\n",
    "data = np.array([[float(nitrogen),float(potassium),float(phosphorus),float(temperature),float(humidity),float(ph),float(rainfall)]])\n",
    "#data = np.array([[104,18, 30, 23.603016, 60.3, 6.7, 140.91]])\n",
    "prediction = RF.predict(data)\n",
    "r=prediction[0]\n",
    "print(r)\n"
   ]
  },
  {
   "cell_type": "code",
   "execution_count": null,
   "id": "9d53d330",
   "metadata": {},
   "outputs": [],
   "source": []
  },
  {
   "cell_type": "code",
   "execution_count": null,
   "id": "108e6eed",
   "metadata": {},
   "outputs": [],
   "source": []
  }
 ],
 "metadata": {
  "kernelspec": {
   "display_name": "Python 3",
   "language": "python",
   "name": "python3"
  },
  "language_info": {
   "codemirror_mode": {
    "name": "ipython",
    "version": 3
   },
   "file_extension": ".py",
   "mimetype": "text/x-python",
   "name": "python",
   "nbconvert_exporter": "python",
   "pygments_lexer": "ipython3",
   "version": "3.7.6"
  }
 },
 "nbformat": 4,
 "nbformat_minor": 5
}
